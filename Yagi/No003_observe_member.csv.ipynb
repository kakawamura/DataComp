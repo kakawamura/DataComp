{
 "cells": [
  {
   "cell_type": "markdown",
   "metadata": {},
   "source": [
    "# 顧客テーブルの基礎集計\n",
    "---\n",
    "### 目次\n",
    "- アンケートフラグの割合\n",
    "- 男女比率\n",
    "- 年代比率\n",
    "- 都道府県比率\n",
    "- 登録日の分布\n",
    "- 退会者数"
   ]
  },
  {
   "cell_type": "code",
   "execution_count": 1,
   "metadata": {
    "collapsed": false
   },
   "outputs": [],
   "source": [
    "%matplotlib inline\n",
    "import numpy as np\n",
    "import pandas as pd\n",
    "import matplotlib.pyplot as plt\n",
    "import seaborn"
   ]
  },
  {
   "cell_type": "markdown",
   "metadata": {},
   "source": [
    "### 分析対象データ"
   ]
  },
  {
   "cell_type": "code",
   "execution_count": 2,
   "metadata": {
    "collapsed": false,
    "scrolled": true
   },
   "outputs": [
    {
     "data": {
      "text/html": [
       "<div>\n",
       "<table border=\"1\" class=\"dataframe\">\n",
       "  <thead>\n",
       "    <tr style=\"text-align: right;\">\n",
       "      <th></th>\n",
       "      <th>enquete_flag</th>\n",
       "      <th>customer_id</th>\n",
       "      <th>gender</th>\n",
       "      <th>age</th>\n",
       "      <th>registration_date</th>\n",
       "      <th>withdrawal_date</th>\n",
       "      <th>prefectures</th>\n",
       "    </tr>\n",
       "  </thead>\n",
       "  <tbody>\n",
       "    <tr>\n",
       "      <th>0</th>\n",
       "      <td>1</td>\n",
       "      <td>5431</td>\n",
       "      <td>1</td>\n",
       "      <td>5</td>\n",
       "      <td>2008-07-26</td>\n",
       "      <td>NaN</td>\n",
       "      <td>4</td>\n",
       "    </tr>\n",
       "    <tr>\n",
       "      <th>1</th>\n",
       "      <td>1</td>\n",
       "      <td>65283</td>\n",
       "      <td>1</td>\n",
       "      <td>1</td>\n",
       "      <td>2015-01-03</td>\n",
       "      <td>NaN</td>\n",
       "      <td>10</td>\n",
       "    </tr>\n",
       "    <tr>\n",
       "      <th>2</th>\n",
       "      <td>1</td>\n",
       "      <td>66955</td>\n",
       "      <td>2</td>\n",
       "      <td>5</td>\n",
       "      <td>2015-01-28</td>\n",
       "      <td>NaN</td>\n",
       "      <td>12</td>\n",
       "    </tr>\n",
       "    <tr>\n",
       "      <th>3</th>\n",
       "      <td>1</td>\n",
       "      <td>38874</td>\n",
       "      <td>2</td>\n",
       "      <td>5</td>\n",
       "      <td>2013-02-04</td>\n",
       "      <td>NaN</td>\n",
       "      <td>27</td>\n",
       "    </tr>\n",
       "    <tr>\n",
       "      <th>4</th>\n",
       "      <td>1</td>\n",
       "      <td>48730</td>\n",
       "      <td>1</td>\n",
       "      <td>2</td>\n",
       "      <td>2013-12-20</td>\n",
       "      <td>NaN</td>\n",
       "      <td>47</td>\n",
       "    </tr>\n",
       "  </tbody>\n",
       "</table>\n",
       "</div>"
      ],
      "text/plain": [
       "   enquete_flag  customer_id  gender  age registration_date withdrawal_date  \\\n",
       "0             1         5431       1    5        2008-07-26             NaN   \n",
       "1             1        65283       1    1        2015-01-03             NaN   \n",
       "2             1        66955       2    5        2015-01-28             NaN   \n",
       "3             1        38874       2    5        2013-02-04             NaN   \n",
       "4             1        48730       1    2        2013-12-20             NaN   \n",
       "\n",
       "   prefectures  \n",
       "0            4  \n",
       "1           10  \n",
       "2           12  \n",
       "3           27  \n",
       "4           47  "
      ]
     },
     "execution_count": 2,
     "metadata": {},
     "output_type": "execute_result"
    }
   ],
   "source": [
    "member = pd.read_csv(\"/Users/TakayukiYagi/Developer/M1/competition/data/member.csv\")\n",
    "member.head()"
   ]
  },
  {
   "cell_type": "markdown",
   "metadata": {},
   "source": [
    "### アンケートフラグの割合"
   ]
  },
  {
   "cell_type": "code",
   "execution_count": 3,
   "metadata": {
    "collapsed": false,
    "scrolled": true
   },
   "outputs": [
    {
     "data": {
      "image/png": "[encoded data removed]",
      "text/plain": [
       "<matplotlib.figure.Figure at 0x114714dd8>"
      ]
     },
     "metadata": {},
     "output_type": "display_data"
    }
   ],
   "source": [
    "df = pd.DataFrame(member[\"enquete_flag\"].value_counts()).plot(figsize=(5,5), kind='bar')"
   ]
  },
  {
   "cell_type": "markdown",
   "metadata": {},
   "source": [
    "### 男女比率"
   ]
  },
  {
   "cell_type": "code",
   "execution_count": 4,
   "metadata": {
    "collapsed": false
   },
   "outputs": [
    {
     "data": {
      "image/png": "[encoded data removed]",
      "text/plain": [
       "<matplotlib.figure.Figure at 0x1147d3f98>"
      ]
     },
     "metadata": {},
     "output_type": "display_data"
    }
   ],
   "source": [
    "df = pd.DataFrame(member[\"gender\"].value_counts()).plot(figsize=(5,5), kind='bar')"
   ]
  },
  {
   "cell_type": "markdown",
   "metadata": {},
   "source": [
    "### 年代比率"
   ]
  },
  {
   "cell_type": "code",
   "execution_count": 5,
   "metadata": {
    "collapsed": false
   },
   "outputs": [
    {
     "data": {
      "image/png": "[encoded data removed]",
      "text/plain": [
       "<matplotlib.figure.Figure at 0x108e002e8>"
      ]
     },
     "metadata": {},
     "output_type": "display_data"
    }
   ],
   "source": [
    "df = pd.DataFrame(member[\"age\"].value_counts()).plot(figsize=(15,5), kind='bar')"
   ]
  },
  {
   "cell_type": "markdown",
   "metadata": {},
   "source": [
    "### 都道府県比率"
   ]
  },
  {
   "cell_type": "code",
   "execution_count": 6,
   "metadata": {
    "collapsed": false,
    "scrolled": false
   },
   "outputs": [
    {
     "data": {
      "image/png": "[encoded data removed]",
      "text/plain": [
       "<matplotlib.figure.Figure at 0x108ec7780>"
      ]
     },
     "metadata": {},
     "output_type": "display_data"
    }
   ],
   "source": [
    "df = pd.DataFrame(member[\"prefectures\"].value_counts()).plot(figsize=(15,5), kind='bar')"
   ]
  },
  {
   "cell_type": "markdown",
   "metadata": {},
   "source": [
    "### 登録日の分布"
   ]
  },
  {
   "cell_type": "code",
   "execution_count": 7,
   "metadata": {
    "collapsed": true
   },
   "outputs": [],
   "source": [
    "df = pd.DataFrame(pd.to_datetime(member['registration_date']))"
   ]
  },
  {
   "cell_type": "code",
   "execution_count": 8,
   "metadata": {
    "collapsed": false
   },
   "outputs": [
    {
     "name": "stdout",
     "output_type": "stream",
     "text": [
      "min :  2000-06-11 00:00:00\n",
      "max :  2016-03-16 00:00:00\n",
      "period :  5757 days 00:00:00\n"
     ]
    }
   ],
   "source": [
    "Min = min(df.registration_date)\n",
    "Max = max(df.registration_date)\n",
    "\n",
    "print(\"min : \", Min)\n",
    "print(\"max : \", Max)\n",
    "print(\"period : \", Max - Min)"
   ]
  },
  {
   "cell_type": "markdown",
   "metadata": {},
   "source": [
    "### 年ごとの登録数の推移"
   ]
  },
  {
   "cell_type": "code",
   "execution_count": 9,
   "metadata": {
    "collapsed": false
   },
   "outputs": [
    {
     "data": {
      "text/plain": [
       "<matplotlib.axes._subplots.AxesSubplot at 0x115f23e48>"
      ]
     },
     "execution_count": 9,
     "metadata": {},
     "output_type": "execute_result"
    },
    {
     "data": {
      "image/png": "[encoded data removed]",
      "text/plain": [
       "<matplotlib.figure.Figure at 0x1147d8048>"
      ]
     },
     "metadata": {},
     "output_type": "display_data"
    }
   ],
   "source": [
    "df.groupby([df.registration_date.dt.year]).count().plot(kind='bar', figsize=(15,6))"
   ]
  },
  {
   "cell_type": "markdown",
   "metadata": {},
   "source": [
    "### 月ごとの登録数"
   ]
  },
  {
   "cell_type": "code",
   "execution_count": 10,
   "metadata": {
    "collapsed": false
   },
   "outputs": [
    {
     "data": {
      "text/plain": [
       "<matplotlib.axes._subplots.AxesSubplot at 0x115ef14e0>"
      ]
     },
     "execution_count": 10,
     "metadata": {},
     "output_type": "execute_result"
    },
    {
     "data": {
      "image/png": "[encoded data removed]",
      "text/plain": [
       "<matplotlib.figure.Figure at 0x115f16e48>"
      ]
     },
     "metadata": {},
     "output_type": "display_data"
    }
   ],
   "source": [
    "df.groupby([df.registration_date.dt.month]).count().plot(kind='bar', figsize=(15,6))"
   ]
  },
  {
   "cell_type": "markdown",
   "metadata": {},
   "source": [
    "### 退会者数"
   ]
  },
  {
   "cell_type": "code",
   "execution_count": 11,
   "metadata": {
    "collapsed": false
   },
   "outputs": [
    {
     "name": "stdout",
     "output_type": "stream",
     "text": [
      "length :  11\n"
     ]
    },
    {
     "data": {
      "text/html": [
       "<div>\n",
       "<table border=\"1\" class=\"dataframe\">\n",
       "  <thead>\n",
       "    <tr style=\"text-align: right;\">\n",
       "      <th></th>\n",
       "      <th>enquete_flag</th>\n",
       "      <th>customer_id</th>\n",
       "      <th>gender</th>\n",
       "      <th>age</th>\n",
       "      <th>registration_date</th>\n",
       "      <th>withdrawal_date</th>\n",
       "      <th>prefectures</th>\n",
       "    </tr>\n",
       "  </thead>\n",
       "  <tbody>\n",
       "    <tr>\n",
       "      <th>497</th>\n",
       "      <td>1</td>\n",
       "      <td>61143</td>\n",
       "      <td>2</td>\n",
       "      <td>5</td>\n",
       "      <td>2014-10-14</td>\n",
       "      <td>2016-04-09</td>\n",
       "      <td>14</td>\n",
       "    </tr>\n",
       "    <tr>\n",
       "      <th>551</th>\n",
       "      <td>1</td>\n",
       "      <td>96296</td>\n",
       "      <td>2</td>\n",
       "      <td>5</td>\n",
       "      <td>2016-01-05</td>\n",
       "      <td>2016-04-01</td>\n",
       "      <td>2</td>\n",
       "    </tr>\n",
       "    <tr>\n",
       "      <th>887</th>\n",
       "      <td>1</td>\n",
       "      <td>22255</td>\n",
       "      <td>2</td>\n",
       "      <td>6</td>\n",
       "      <td>2011-09-01</td>\n",
       "      <td>2016-05-01</td>\n",
       "      <td>11</td>\n",
       "    </tr>\n",
       "    <tr>\n",
       "      <th>1289</th>\n",
       "      <td>1</td>\n",
       "      <td>73270</td>\n",
       "      <td>2</td>\n",
       "      <td>5</td>\n",
       "      <td>2015-05-01</td>\n",
       "      <td>2016-07-21</td>\n",
       "      <td>13</td>\n",
       "    </tr>\n",
       "    <tr>\n",
       "      <th>1519</th>\n",
       "      <td>1</td>\n",
       "      <td>103054</td>\n",
       "      <td>2</td>\n",
       "      <td>3</td>\n",
       "      <td>2016-03-14</td>\n",
       "      <td>2016-04-12</td>\n",
       "      <td>11</td>\n",
       "    </tr>\n",
       "    <tr>\n",
       "      <th>1549</th>\n",
       "      <td>1</td>\n",
       "      <td>51021</td>\n",
       "      <td>2</td>\n",
       "      <td>6</td>\n",
       "      <td>2014-02-02</td>\n",
       "      <td>2016-06-28</td>\n",
       "      <td>29</td>\n",
       "    </tr>\n",
       "    <tr>\n",
       "      <th>1949</th>\n",
       "      <td>1</td>\n",
       "      <td>97723</td>\n",
       "      <td>2</td>\n",
       "      <td>5</td>\n",
       "      <td>2016-01-15</td>\n",
       "      <td>2016-06-28</td>\n",
       "      <td>40</td>\n",
       "    </tr>\n",
       "    <tr>\n",
       "      <th>2014</th>\n",
       "      <td>1</td>\n",
       "      <td>37627</td>\n",
       "      <td>1</td>\n",
       "      <td>6</td>\n",
       "      <td>2013-01-06</td>\n",
       "      <td>2016-07-11</td>\n",
       "      <td>24</td>\n",
       "    </tr>\n",
       "    <tr>\n",
       "      <th>2138</th>\n",
       "      <td>1</td>\n",
       "      <td>20643</td>\n",
       "      <td>2</td>\n",
       "      <td>5</td>\n",
       "      <td>2011-06-23</td>\n",
       "      <td>2016-07-28</td>\n",
       "      <td>28</td>\n",
       "    </tr>\n",
       "    <tr>\n",
       "      <th>2175</th>\n",
       "      <td>1</td>\n",
       "      <td>44187</td>\n",
       "      <td>2</td>\n",
       "      <td>4</td>\n",
       "      <td>2013-08-01</td>\n",
       "      <td>2016-05-13</td>\n",
       "      <td>13</td>\n",
       "    </tr>\n",
       "    <tr>\n",
       "      <th>3077</th>\n",
       "      <td>1</td>\n",
       "      <td>3294</td>\n",
       "      <td>2</td>\n",
       "      <td>5</td>\n",
       "      <td>2007-10-22</td>\n",
       "      <td>2016-03-24</td>\n",
       "      <td>25</td>\n",
       "    </tr>\n",
       "  </tbody>\n",
       "</table>\n",
       "</div>"
      ],
      "text/plain": [
       "      enquete_flag  customer_id  gender  age registration_date  \\\n",
       "497              1        61143       2    5        2014-10-14   \n",
       "551              1        96296       2    5        2016-01-05   \n",
       "887              1        22255       2    6        2011-09-01   \n",
       "1289             1        73270       2    5        2015-05-01   \n",
       "1519             1       103054       2    3        2016-03-14   \n",
       "1549             1        51021       2    6        2014-02-02   \n",
       "1949             1        97723       2    5        2016-01-15   \n",
       "2014             1        37627       1    6        2013-01-06   \n",
       "2138             1        20643       2    5        2011-06-23   \n",
       "2175             1        44187       2    4        2013-08-01   \n",
       "3077             1         3294       2    5        2007-10-22   \n",
       "\n",
       "     withdrawal_date  prefectures  \n",
       "497       2016-04-09           14  \n",
       "551       2016-04-01            2  \n",
       "887       2016-05-01           11  \n",
       "1289      2016-07-21           13  \n",
       "1519      2016-04-12           11  \n",
       "1549      2016-06-28           29  \n",
       "1949      2016-06-28           40  \n",
       "2014      2016-07-11           24  \n",
       "2138      2016-07-28           28  \n",
       "2175      2016-05-13           13  \n",
       "3077      2016-03-24           25  "
      ]
     },
     "execution_count": 11,
     "metadata": {},
     "output_type": "execute_result"
    }
   ],
   "source": [
    "print('length : ', len(member.dropna()))\n",
    "member.dropna()"
   ]
  },
  {
   "cell_type": "code",
   "execution_count": null,
   "metadata": {
    "collapsed": true
   },
   "outputs": [],
   "source": []
  },
  {
   "cell_type": "code",
   "execution_count": null,
   "metadata": {
    "collapsed": true
   },
   "outputs": [],
   "source": []
  }
 ],
 "metadata": {
  "kernelspec": {
   "display_name": "Python 3",
   "language": "python",
   "name": "python3"
  },
  "language_info": {
   "codemirror_mode": {
    "name": "ipython",
    "version": 3
   },
   "file_extension": ".py",
   "mimetype": "text/x-python",
   "name": "python",
   "nbconvert_exporter": "python",
   "pygments_lexer": "ipython3",
   "version": "3.5.1"
  }
 },
 "nbformat": 4,
 "nbformat_minor": 0
}
