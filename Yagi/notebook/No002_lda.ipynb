{
 "cells": [
  {
   "cell_type": "markdown",
   "metadata": {},
   "source": [
    "# トピックモデル(Latent Dirichlet Allocation, LDA)の実装\n",
    "---\n",
    "pythonのgensim(トピックモデルのライブラリ）を使って簡単な実装をしてみる．  \n",
    "目的は**顧客のクラスタを発見し，クラスタごとの購入傾向を観察する**こと．  \n",
    "今回は，各顧客が購入した商品の**item_category_2の情報だけ**使用して簡単な分析をしてみた．  \n",
    "\n",
    "### 目次  \n",
    "- 前処理  \n",
    " - テーブルの準備  \n",
    " - BOW表現に変換\n",
    " - 辞書の作成\n",
    " - コーパスの作成　\n",
    "- 実行部分\n",
    " - LDAの実行\n",
    " - トピック（クラスタ）の数を推定\n",
    " - トピックごとの距離\n",
    " - トピックごとの傾向"
   ]
  },
  {
   "cell_type": "markdown",
   "metadata": {},
   "source": [
    "## 前処理\n",
    "---\n",
    "実行の前に必要な前処理をしておく．"
   ]
  },
  {
   "cell_type": "code",
   "execution_count": 2,
   "metadata": {
    "collapsed": false
   },
   "outputs": [
    {
     "name": "stdout",
     "output_type": "stream",
     "text": [
      "unique user数 :  101491 人\n",
      "カテゴリの種類 :  226 種類\n"
     ]
    }
   ],
   "source": [
    "%matplotlib inline\n",
    "import numpy as np\n",
    "import pandas as pd\n",
    "import matplotlib.pyplot as plt\n",
    "import seaborn\n",
    "import gensim\n",
    "from gensim import corpora\n",
    "import time\n",
    "\n",
    "order = pd.read_csv(\"/Users/TakayukiYagi/Developer/M1/competition/data/order.csv\")\n",
    "detail = pd.read_csv(\"/Users/TakayukiYagi/Developer/M1/competition/data/order_detail.csv\")\n",
    "item = pd.read_csv(\"/Users/TakayukiYagi/Developer/M1/competition/data/item.csv\")\n",
    "\n",
    "df = pd.merge(pd.merge(order, detail, on='order_id', how='left'), item, on='item_id', how='left')[['customer_id', 'item_category_2']].dropna()\n",
    "\n",
    "print(u'unique user数 : ', len(set(df.customer_id)), u'人')\n",
    "print(u'カテゴリの種類 : ', len(set(df.item_category_2)), u'種類')"
   ]
  },
  {
   "cell_type": "code",
   "execution_count": 3,
   "metadata": {
    "collapsed": true
   },
   "outputs": [],
   "source": [
    "unique_customer_id = set(df.customer_id)\n",
    "dict_customer_id = dict(zip(list(unique_customer_id), [i for i in range(len(unique_customer_id))]))\n",
    "\n",
    "df.customer_id= df.customer_id.apply(lambda x: dict_customer_id[x])\n",
    "\n",
    "bows = [[] for i in range(len(unique_customer_id))]\n",
    "for (c, i) in df.as_matrix():\n",
    "    bows[c].append(str(i))\n",
    "    \n",
    "bows = list(filter(lambda x: len(x)>10, bows))\n",
    "\n",
    "dictionary = corpora.Dictionary(bows)\n",
    "\n",
    "corpus = [dictionary.doc2bow(bow) for bow in bows]"
   ]
  },
  {
   "cell_type": "markdown",
   "metadata": {},
   "source": [
    "## LDAの実行\n",
    "---"
   ]
  },
  {
   "cell_type": "code",
   "execution_count": 4,
   "metadata": {
    "collapsed": true
   },
   "outputs": [],
   "source": [
    "p = int(len(corpus)*0.6)\n",
    "corpus_train = corpus[0:p]\n",
    "corpus_test = corpus[p:]"
   ]
  },
  {
   "cell_type": "code",
   "execution_count": 5,
   "metadata": {
    "collapsed": false
   },
   "outputs": [
    {
     "name": "stdout",
     "output_type": "stream",
     "text": [
      "topic_number : 1\n",
      "Elapsed time : 7.505068063735962\n",
      "Perplexity : 38.5218709832\n",
      "\n",
      "topic_number : 3\n",
      "Elapsed time : 45.15498995780945\n",
      "Perplexity : 29.90129181\n",
      "\n",
      "topic_number : 5\n",
      "Elapsed time : 37.809755086898804\n",
      "Perplexity : 24.5737871878\n",
      "\n",
      "topic_number : 7\n",
      "Elapsed time : 35.914690017700195\n",
      "Perplexity : 21.9289130219\n",
      "\n",
      "topic_number : 10\n",
      "Elapsed time : 37.025914907455444\n",
      "Perplexity : 19.0122957546\n",
      "\n",
      "topic_number : 15\n",
      "Elapsed time : 38.9236421585083\n",
      "Perplexity : 16.7453139199\n",
      "\n",
      "topic_number : 20\n",
      "Elapsed time : 37.1246919631958\n",
      "Perplexity : 14.7014531195\n",
      "\n",
      "topic_number : 30\n",
      "Elapsed time : 48.86749291419983\n",
      "Perplexity : 13.334344987\n",
      "\n",
      "topic_number : 40\n",
      "Elapsed time : 45.16479301452637\n",
      "Perplexity : 12.4856956116\n",
      "\n",
      "topic_number : 50\n",
      "Elapsed time : 46.56212496757507\n",
      "Perplexity : 11.7824471686\n",
      "\n"
     ]
    },
    {
     "data": {
      "text/plain": [
       "<matplotlib.text.Text at 0x1175d4b70>"
      ]
     },
     "execution_count": 5,
     "metadata": {},
     "output_type": "execute_result"
    },
    {
     "data": {
      "image/png": "[encoded data removed]",
      "text/plain": [
       "<matplotlib.figure.Figure at 0x1058371d0>"
      ]
     },
     "metadata": {},
     "output_type": "display_data"
    }
   ],
   "source": [
    "num_of_topics = [1, 3, 5, 7, 10, 15, 20, 30, 40, 50]\n",
    "perplex_list = []\n",
    "\n",
    "def calc_perplexity(m, c):\n",
    "    return np.exp(-m.log_perplexity(c))\n",
    "\n",
    "for k in num_of_topics:\n",
    "    print(\"topic_number : %d\" %k)\n",
    "    start_time = time.time()\n",
    "    \n",
    "    # モデル実行\n",
    "    model = gensim.models.ldamodel.LdaModel(corpus=corpus_train, id2word=dictionary, num_topics=k)\n",
    "    \n",
    "    # 経過時間表示\n",
    "    print(\"Elapsed time : %s\" %(time.time() - start_time))\n",
    "    \n",
    "    # Perplexity(評価基準)の表示\n",
    "    perplexity =  calc_perplexity(model, corpus_test)\n",
    "    print(\"Perplexity : %s\" %perplexity)\n",
    "    perplex_list.append(perplexity)\n",
    "    \n",
    "    print(\"\")\n",
    "\n",
    "plt.figure(figsize=(10, 5))\n",
    "plt.plot(num_of_topics, perplex_list)\n",
    "plt.ylabel(\"perplexity\")\n",
    "plt.xlabel(\"number of topic\")"
   ]
  },
  {
   "cell_type": "markdown",
   "metadata": {},
   "source": [
    "topic数を10に設定して再計算する"
   ]
  },
  {
   "cell_type": "code",
   "execution_count": null,
   "metadata": {
    "collapsed": true
   },
   "outputs": [],
   "source": [
    "model = gensim.models.ldamodel.LdaModel(corpus=corpus_train, id2word=dictionary, num_topics=10)"
   ]
  },
  {
   "cell_type": "code",
   "execution_count": null,
   "metadata": {
    "collapsed": false
   },
   "outputs": [],
   "source": [
    "def calc_topic_distances(model, topic):\n",
    "    \n",
    "    def kldiv(p, q):\n",
    "        distance = np.sum(p * np.log(p / q))\n",
    "        return distance\n",
    "    \n",
    "    t = model.state.get_lambda()\n",
    "    for i in range(len(t)):\n",
    "        t[i] = t[i] / sum(t[i])\n",
    "\n",
    "    base = t[topic]\n",
    "    distances = [(i_p[0], kldiv(base, i_p[1])) for i_p in enumerate(t) if i_p[0] != topic]\n",
    "    return distances\n",
    "\n",
    "def plot_distance_matrix(model):\n",
    "    \n",
    "    mt = []\n",
    "    for i in range(model.num_topics):\n",
    "        d = calc_topic_distances(model, i)\n",
    "        d.insert(i, (i, 0)) \n",
    "        d = [_d[1] for _d in d]\n",
    "        mt.append(d)\n",
    "\n",
    "    mt = np.array(mt)\n",
    "    \n",
    "    plt.figure(figsize=(8, 8))\n",
    "    plt.imshow(mt, interpolation=\"nearest\", cmap=plt.cm.ocean)\n",
    "    plt.yticks(range(mt.shape[0]))\n",
    "    plt.xticks(range(mt.shape[1]))\n",
    "    plt.colorbar()\n",
    "    plt.show()\n",
    "\n",
    "plot_distance_matrix(model)"
   ]
  },
  {
   "cell_type": "markdown",
   "metadata": {},
   "source": [
    "やっぱり全体的に集団が近い。。。こんなもんなのかな。。細かく分けすぎなのかな。。"
   ]
  },
  {
   "cell_type": "code",
   "execution_count": 12,
   "metadata": {
    "collapsed": false
   },
   "outputs": [
    {
     "name": "stdout",
     "output_type": "stream",
     "text": [
      "-----  topic 0  -----\n",
      "\n",
      "35.7 %    パーカー\n",
      "13.1 %    ドレスシューズ\n",
      "10.7 %    ストール/スヌード\n",
      " 4.5 %    ダッフルコート\n",
      " 4.3 %    ヘアゴム\n",
      "\n",
      "-----  topic 1  -----\n",
      "\n",
      "56.4 %    パンプス\n",
      "17.6 %    タンクトップ\n",
      " 3.1 %    スカート\n",
      " 2.9 %    ワンピース\n",
      " 1.7 %    ニット/セーター\n",
      "\n",
      "-----  topic 2  -----\n",
      "\n",
      "87.4 %    スニーカー\n",
      " 1.9 %    Tシャツ/カットソー\n",
      " 0.7 %    バックパック/リュック\n",
      " 0.5 %    ニットキャップ/ビーニー\n",
      " 0.5 %    トートバッグ\n",
      "\n",
      "-----  topic 3  -----\n",
      "\n",
      "54.0 %    カーディガン\n",
      " 7.3 %    ダウンジャケット/コート\n",
      " 3.0 %    ハンカチ/ハンドタオル\n",
      " 2.3 %    インテリアアクセサリー\n",
      " 2.2 %    キッチンツール\n",
      "\n",
      "-----  topic 4  -----\n",
      "\n",
      "33.2 %    チノパンツ\n",
      "15.0 %    ブレスレット\n",
      "10.6 %    その他シューズ\n",
      " 6.8 %    福袋/福箱\n",
      " 5.8 %    Tシャツ/カットソー\n",
      "\n",
      "-----  topic 5  -----\n",
      "\n",
      "25.1 %    ブーツ\n",
      " 6.5 %    チェスターコート\n",
      " 6.1 %    トートバッグ\n",
      " 4.9 %    その他アウター\n",
      " 4.5 %    ショルダーバッグ\n",
      "\n",
      "-----  topic 6  -----\n",
      "\n",
      "67.0 %    サンダル\n",
      " 3.4 %    スカート\n",
      " 1.6 %    パンツ\n",
      " 1.2 %    ルームシューズ/スリッパ\n",
      " 1.2 %    クッション/クッションカバー\n",
      "\n",
      "-----  topic 7  -----\n",
      "\n",
      "63.3 %    ニット/セーター\n",
      " 9.7 %    スカート\n",
      " 6.0 %    ポロシャツ\n",
      " 4.9 %    Tシャツ/カットソー\n",
      " 1.6 %    シャツ/ブラウス\n",
      "\n",
      "-----  topic 8  -----\n",
      "\n",
      "27.6 %    ワンピース\n",
      "26.4 %    ブラ&ショーツ\n",
      " 5.1 %    ニットキャップ/ビーニー\n",
      " 4.3 %    スカート\n",
      " 3.4 %    モカシン/デッキシューズ\n",
      "\n",
      "-----  topic 9  -----\n",
      "\n",
      "77.0 %    パンツ\n",
      " 3.4 %    デニムパンツ\n",
      " 3.1 %    ニット/セーター\n",
      " 3.0 %    Tシャツ/カットソー\n",
      " 1.8 %    レインシューズ\n",
      "\n",
      "-----  topic 10  -----\n",
      "\n",
      "42.0 %    ソックス/靴下\n",
      "22.7 %    デニムパンツ\n",
      " 5.3 %    Tシャツ/カットソー\n",
      " 4.1 %    ボクサーパンツ\n",
      " 3.7 %    パンツ\n",
      "\n",
      "-----  topic 11  -----\n",
      "\n",
      "89.9 %    Tシャツ/カットソー\n",
      " 1.2 %    パンツ\n",
      " 1.1 %    デニムパンツ\n",
      " 0.7 %    シャツ/ブラウス\n",
      " 0.6 %    ニットキャップ/ビーニー\n",
      "\n",
      "-----  topic 12  -----\n",
      "\n",
      "71.4 %    シャツ/ブラウス\n",
      " 4.7 %    テーラードジャケット\n",
      " 2.0 %    スタジャン\n",
      " 1.9 %    ポロシャツ\n",
      " 1.7 %    マフラー/ショール\n",
      "\n",
      "-----  topic 13  -----\n",
      "\n",
      "45.5 %    スウェット\n",
      " 8.8 %    Tシャツ/カットソー\n",
      " 6.7 %    レギンス/スパッツ\n",
      " 4.1 %    モッズコート\n",
      " 2.8 %    腕時計\n",
      "\n",
      "-----  topic 14  -----\n",
      "\n",
      "64.9 %    ブラ\n",
      "23.5 %    ショーツ\n",
      " 2.8 %    タイツ/ストッキング\n",
      " 0.8 %    スカート\n",
      " 0.6 %    ニット/セーター\n",
      "\n"
     ]
    }
   ],
   "source": [
    "for k in range(model.num_topics):\n",
    "    print(\"-----  topic %d  -----\" %k)\n",
    "    print(\"\")\n",
    "    res = model.show_topic(k, topn=5)\n",
    "    for (text, p) in res:\n",
    "        print(str(round(p*100,1)).rjust(4),\"%   \", text)\n",
    "    print(\"\")"
   ]
  },
  {
   "cell_type": "markdown",
   "metadata": {},
   "source": [
    "でもなんとなくわかれてるっぽい。  \n",
    "LDA優秀..!!  \n",
    "集団ごとにちゃんと分析したらもっと面白いのかも。"
   ]
  },
  {
   "cell_type": "code",
   "execution_count": null,
   "metadata": {
    "collapsed": true
   },
   "outputs": [],
   "source": []
  }
 ],
 "metadata": {
  "kernelspec": {
   "display_name": "Python 3",
   "language": "python",
   "name": "python3"
  },
  "language_info": {
   "codemirror_mode": {
    "name": "ipython",
    "version": 3
   },
   "file_extension": ".py",
   "mimetype": "text/x-python",
   "name": "python",
   "nbconvert_exporter": "python",
   "pygments_lexer": "ipython3",
   "version": "3.5.1"
  }
 },
 "nbformat": 4,
 "nbformat_minor": 0
}
