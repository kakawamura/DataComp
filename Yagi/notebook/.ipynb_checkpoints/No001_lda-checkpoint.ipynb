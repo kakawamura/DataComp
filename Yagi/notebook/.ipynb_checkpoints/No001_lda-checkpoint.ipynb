{
 "cells": [
  {
   "cell_type": "markdown",
   "metadata": {},
   "source": [
    "# トピックモデル(Latent Dirichlet Allocation, LDA)の実装\n",
    "---\n",
    "pythonのgensim(トピックモデルのライブラリ）を使って簡単な実装をしてみる．  \n",
    "目的は**顧客のクラスタを発見し，クラスタごとの購入傾向を観察する**こと．  \n",
    "今回は，各顧客が購入した商品の*item_category_1の情報だけ*使用して簡単な分析をしてみた．  \n",
    "\n",
    "### 目次  \n",
    "- 前処理  \n",
    " - テーブルの準備  \n",
    " - BOW表現に変換\n",
    " - 辞書の作成\n",
    " - コーパスの作成　\n",
    "- 実行部分\n",
    " - LDAの実行\n",
    " - トピック（クラスタ）の数を推定\n",
    " - トピックごとの距離\n",
    " - トピックごとの傾向"
   ]
  },
  {
   "cell_type": "markdown",
   "metadata": {},
   "source": [
    "## 前処理\n",
    "---\n",
    "実行の前に必要な前処理をしておく．"
   ]
  },
  {
   "cell_type": "code",
   "execution_count": 1,
   "metadata": {
    "collapsed": false
   },
   "outputs": [
    {
     "name": "stderr",
     "output_type": "stream",
     "text": [
      "WARNING:gensim.models.word2vec:Slow version of gensim.models.word2vec is being used\n",
      "WARNING:gensim.models.doc2vec:Slow version of gensim.models.doc2vec is being used\n"
     ]
    }
   ],
   "source": [
    "%matplotlib inline\n",
    "import numpy as np\n",
    "import pandas as pd\n",
    "import matplotlib.pyplot as plt\n",
    "import seaborn\n",
    "import gensim\n",
    "from gensim import corpora\n",
    "import time"
   ]
  },
  {
   "cell_type": "markdown",
   "metadata": {},
   "source": [
    "まずは必要なテーブルを作成する(order, detail_order, itemのテーブルから必要な列のみ抽出）"
   ]
  },
  {
   "cell_type": "code",
   "execution_count": 2,
   "metadata": {
    "collapsed": false
   },
   "outputs": [],
   "source": [
    "order = pd.read_csv(\"/Users/TakayukiYagi/Developer/M1/competition/data/order.csv\")\n",
    "detail = pd.read_csv(\"/Users/TakayukiYagi/Developer/M1/competition/data/order_detail.csv\")\n",
    "item = pd.read_csv(\"/Users/TakayukiYagi/Developer/M1/competition/data/item.csv\")"
   ]
  },
  {
   "cell_type": "code",
   "execution_count": 3,
   "metadata": {
    "collapsed": false
   },
   "outputs": [],
   "source": [
    "df = pd.merge(pd.merge(order, detail, on='order_id', how='left'), item, on='item_id', how='left')[['customer_id', 'item_category_1']].dropna()"
   ]
  },
  {
   "cell_type": "markdown",
   "metadata": {},
   "source": [
    "作成したテーブルはこんな感じ．"
   ]
  },
  {
   "cell_type": "code",
   "execution_count": 4,
   "metadata": {
    "collapsed": false,
    "scrolled": true
   },
   "outputs": [
    {
     "name": "stdout",
     "output_type": "stream",
     "text": [
      "unique user数 :  101491 人\n",
      "カテゴリの種類 :  25 種類\n"
     ]
    },
    {
     "data": {
      "text/html": [
       "<div>\n",
       "<table border=\"1\" class=\"dataframe\">\n",
       "  <thead>\n",
       "    <tr style=\"text-align: right;\">\n",
       "      <th></th>\n",
       "      <th>customer_id</th>\n",
       "      <th>item_category_1</th>\n",
       "    </tr>\n",
       "  </thead>\n",
       "  <tbody>\n",
       "    <tr>\n",
       "      <th>0</th>\n",
       "      <td>5537</td>\n",
       "      <td>雑貨/ホビー/スポーツ</td>\n",
       "    </tr>\n",
       "    <tr>\n",
       "      <th>1</th>\n",
       "      <td>5537</td>\n",
       "      <td>雑貨/ホビー/スポーツ</td>\n",
       "    </tr>\n",
       "    <tr>\n",
       "      <th>2</th>\n",
       "      <td>5537</td>\n",
       "      <td>雑貨/ホビー/スポーツ</td>\n",
       "    </tr>\n",
       "    <tr>\n",
       "      <th>3</th>\n",
       "      <td>5537</td>\n",
       "      <td>雑貨/ホビー/スポーツ</td>\n",
       "    </tr>\n",
       "    <tr>\n",
       "      <th>4</th>\n",
       "      <td>5537</td>\n",
       "      <td>雑貨/ホビー/スポーツ</td>\n",
       "    </tr>\n",
       "    <tr>\n",
       "      <th>5</th>\n",
       "      <td>5537</td>\n",
       "      <td>雑貨/ホビー/スポーツ</td>\n",
       "    </tr>\n",
       "    <tr>\n",
       "      <th>6</th>\n",
       "      <td>5537</td>\n",
       "      <td>雑貨/ホビー/スポーツ</td>\n",
       "    </tr>\n",
       "    <tr>\n",
       "      <th>7</th>\n",
       "      <td>5537</td>\n",
       "      <td>雑貨/ホビー/スポーツ</td>\n",
       "    </tr>\n",
       "    <tr>\n",
       "      <th>8</th>\n",
       "      <td>5537</td>\n",
       "      <td>雑貨/ホビー/スポーツ</td>\n",
       "    </tr>\n",
       "    <tr>\n",
       "      <th>9</th>\n",
       "      <td>5537</td>\n",
       "      <td>雑貨/ホビー/スポーツ</td>\n",
       "    </tr>\n",
       "    <tr>\n",
       "      <th>10</th>\n",
       "      <td>5537</td>\n",
       "      <td>雑貨/ホビー/スポーツ</td>\n",
       "    </tr>\n",
       "    <tr>\n",
       "      <th>11</th>\n",
       "      <td>5537</td>\n",
       "      <td>雑貨/ホビー/スポーツ</td>\n",
       "    </tr>\n",
       "    <tr>\n",
       "      <th>12</th>\n",
       "      <td>5537</td>\n",
       "      <td>雑貨/ホビー/スポーツ</td>\n",
       "    </tr>\n",
       "    <tr>\n",
       "      <th>13</th>\n",
       "      <td>5537</td>\n",
       "      <td>雑貨/ホビー/スポーツ</td>\n",
       "    </tr>\n",
       "    <tr>\n",
       "      <th>14</th>\n",
       "      <td>5537</td>\n",
       "      <td>雑貨/ホビー/スポーツ</td>\n",
       "    </tr>\n",
       "    <tr>\n",
       "      <th>15</th>\n",
       "      <td>5537</td>\n",
       "      <td>雑貨/ホビー/スポーツ</td>\n",
       "    </tr>\n",
       "    <tr>\n",
       "      <th>16</th>\n",
       "      <td>16937</td>\n",
       "      <td>トップス</td>\n",
       "    </tr>\n",
       "    <tr>\n",
       "      <th>17</th>\n",
       "      <td>16937</td>\n",
       "      <td>トップス</td>\n",
       "    </tr>\n",
       "    <tr>\n",
       "      <th>18</th>\n",
       "      <td>16937</td>\n",
       "      <td>トップス</td>\n",
       "    </tr>\n",
       "    <tr>\n",
       "      <th>19</th>\n",
       "      <td>16937</td>\n",
       "      <td>トップス</td>\n",
       "    </tr>\n",
       "    <tr>\n",
       "      <th>20</th>\n",
       "      <td>22657</td>\n",
       "      <td>トップス</td>\n",
       "    </tr>\n",
       "    <tr>\n",
       "      <th>21</th>\n",
       "      <td>22657</td>\n",
       "      <td>トップス</td>\n",
       "    </tr>\n",
       "    <tr>\n",
       "      <th>22</th>\n",
       "      <td>22657</td>\n",
       "      <td>トップス</td>\n",
       "    </tr>\n",
       "    <tr>\n",
       "      <th>23</th>\n",
       "      <td>22657</td>\n",
       "      <td>トップス</td>\n",
       "    </tr>\n",
       "    <tr>\n",
       "      <th>24</th>\n",
       "      <td>22657</td>\n",
       "      <td>トップス</td>\n",
       "    </tr>\n",
       "    <tr>\n",
       "      <th>25</th>\n",
       "      <td>22657</td>\n",
       "      <td>トップス</td>\n",
       "    </tr>\n",
       "    <tr>\n",
       "      <th>26</th>\n",
       "      <td>22657</td>\n",
       "      <td>トップス</td>\n",
       "    </tr>\n",
       "    <tr>\n",
       "      <th>27</th>\n",
       "      <td>22657</td>\n",
       "      <td>トップス</td>\n",
       "    </tr>\n",
       "    <tr>\n",
       "      <th>28</th>\n",
       "      <td>22657</td>\n",
       "      <td>トップス</td>\n",
       "    </tr>\n",
       "    <tr>\n",
       "      <th>29</th>\n",
       "      <td>22657</td>\n",
       "      <td>トップス</td>\n",
       "    </tr>\n",
       "    <tr>\n",
       "      <th>30</th>\n",
       "      <td>22657</td>\n",
       "      <td>トップス</td>\n",
       "    </tr>\n",
       "    <tr>\n",
       "      <th>31</th>\n",
       "      <td>22657</td>\n",
       "      <td>トップス</td>\n",
       "    </tr>\n",
       "    <tr>\n",
       "      <th>32</th>\n",
       "      <td>22657</td>\n",
       "      <td>トップス</td>\n",
       "    </tr>\n",
       "    <tr>\n",
       "      <th>33</th>\n",
       "      <td>22657</td>\n",
       "      <td>トップス</td>\n",
       "    </tr>\n",
       "    <tr>\n",
       "      <th>34</th>\n",
       "      <td>22657</td>\n",
       "      <td>トップス</td>\n",
       "    </tr>\n",
       "    <tr>\n",
       "      <th>35</th>\n",
       "      <td>22657</td>\n",
       "      <td>トップス</td>\n",
       "    </tr>\n",
       "    <tr>\n",
       "      <th>36</th>\n",
       "      <td>22657</td>\n",
       "      <td>トップス</td>\n",
       "    </tr>\n",
       "    <tr>\n",
       "      <th>37</th>\n",
       "      <td>22657</td>\n",
       "      <td>トップス</td>\n",
       "    </tr>\n",
       "    <tr>\n",
       "      <th>38</th>\n",
       "      <td>22657</td>\n",
       "      <td>トップス</td>\n",
       "    </tr>\n",
       "    <tr>\n",
       "      <th>39</th>\n",
       "      <td>22657</td>\n",
       "      <td>トップス</td>\n",
       "    </tr>\n",
       "    <tr>\n",
       "      <th>40</th>\n",
       "      <td>22657</td>\n",
       "      <td>トップス</td>\n",
       "    </tr>\n",
       "    <tr>\n",
       "      <th>41</th>\n",
       "      <td>22657</td>\n",
       "      <td>トップス</td>\n",
       "    </tr>\n",
       "    <tr>\n",
       "      <th>42</th>\n",
       "      <td>22657</td>\n",
       "      <td>トップス</td>\n",
       "    </tr>\n",
       "    <tr>\n",
       "      <th>43</th>\n",
       "      <td>22657</td>\n",
       "      <td>トップス</td>\n",
       "    </tr>\n",
       "    <tr>\n",
       "      <th>44</th>\n",
       "      <td>22657</td>\n",
       "      <td>トップス</td>\n",
       "    </tr>\n",
       "    <tr>\n",
       "      <th>45</th>\n",
       "      <td>22657</td>\n",
       "      <td>トップス</td>\n",
       "    </tr>\n",
       "    <tr>\n",
       "      <th>46</th>\n",
       "      <td>22657</td>\n",
       "      <td>トップス</td>\n",
       "    </tr>\n",
       "    <tr>\n",
       "      <th>47</th>\n",
       "      <td>22657</td>\n",
       "      <td>トップス</td>\n",
       "    </tr>\n",
       "    <tr>\n",
       "      <th>48</th>\n",
       "      <td>22657</td>\n",
       "      <td>トップス</td>\n",
       "    </tr>\n",
       "    <tr>\n",
       "      <th>49</th>\n",
       "      <td>22657</td>\n",
       "      <td>トップス</td>\n",
       "    </tr>\n",
       "  </tbody>\n",
       "</table>\n",
       "</div>"
      ],
      "text/plain": [
       "    customer_id item_category_1\n",
       "0          5537     雑貨/ホビー/スポーツ\n",
       "1          5537     雑貨/ホビー/スポーツ\n",
       "2          5537     雑貨/ホビー/スポーツ\n",
       "3          5537     雑貨/ホビー/スポーツ\n",
       "4          5537     雑貨/ホビー/スポーツ\n",
       "5          5537     雑貨/ホビー/スポーツ\n",
       "6          5537     雑貨/ホビー/スポーツ\n",
       "7          5537     雑貨/ホビー/スポーツ\n",
       "8          5537     雑貨/ホビー/スポーツ\n",
       "9          5537     雑貨/ホビー/スポーツ\n",
       "10         5537     雑貨/ホビー/スポーツ\n",
       "11         5537     雑貨/ホビー/スポーツ\n",
       "12         5537     雑貨/ホビー/スポーツ\n",
       "13         5537     雑貨/ホビー/スポーツ\n",
       "14         5537     雑貨/ホビー/スポーツ\n",
       "15         5537     雑貨/ホビー/スポーツ\n",
       "16        16937            トップス\n",
       "17        16937            トップス\n",
       "18        16937            トップス\n",
       "19        16937            トップス\n",
       "20        22657            トップス\n",
       "21        22657            トップス\n",
       "22        22657            トップス\n",
       "23        22657            トップス\n",
       "24        22657            トップス\n",
       "25        22657            トップス\n",
       "26        22657            トップス\n",
       "27        22657            トップス\n",
       "28        22657            トップス\n",
       "29        22657            トップス\n",
       "30        22657            トップス\n",
       "31        22657            トップス\n",
       "32        22657            トップス\n",
       "33        22657            トップス\n",
       "34        22657            トップス\n",
       "35        22657            トップス\n",
       "36        22657            トップス\n",
       "37        22657            トップス\n",
       "38        22657            トップス\n",
       "39        22657            トップス\n",
       "40        22657            トップス\n",
       "41        22657            トップス\n",
       "42        22657            トップス\n",
       "43        22657            トップス\n",
       "44        22657            トップス\n",
       "45        22657            トップス\n",
       "46        22657            トップス\n",
       "47        22657            トップス\n",
       "48        22657            トップス\n",
       "49        22657            トップス"
      ]
     },
     "execution_count": 4,
     "metadata": {},
     "output_type": "execute_result"
    }
   ],
   "source": [
    "print(u'unique user数 : ', len(set(df.customer_id)), u'人')\n",
    "print(u'カテゴリの種類 : ', len(set(df.item_category_1)), u'種類')\n",
    "df.head(50)"
   ]
  },
  {
   "cell_type": "markdown",
   "metadata": {},
   "source": [
    "customer_idを0から再割り当てする（別にしなくても良いけど番号ばバラバラだと気持ち悪いので）"
   ]
  },
  {
   "cell_type": "code",
   "execution_count": 5,
   "metadata": {
    "collapsed": false,
    "scrolled": true
   },
   "outputs": [
    {
     "name": "stderr",
     "output_type": "stream",
     "text": [
      "/Users/TakayukiYagi/.pyenv/versions/anaconda3-2.5.0/lib/python3.5/site-packages/ipykernel/__main__.py:5: FutureWarning: sort(columns=....) is deprecated, use sort_values(by=.....)\n"
     ]
    },
    {
     "data": {
      "text/html": [
       "<div>\n",
       "<table border=\"1\" class=\"dataframe\">\n",
       "  <thead>\n",
       "    <tr style=\"text-align: right;\">\n",
       "      <th></th>\n",
       "      <th>customer_id</th>\n",
       "      <th>item_category_1</th>\n",
       "    </tr>\n",
       "  </thead>\n",
       "  <tbody>\n",
       "    <tr>\n",
       "      <th>3588130</th>\n",
       "      <td>0</td>\n",
       "      <td>バッグ</td>\n",
       "    </tr>\n",
       "    <tr>\n",
       "      <th>1598761</th>\n",
       "      <td>0</td>\n",
       "      <td>シューズ</td>\n",
       "    </tr>\n",
       "    <tr>\n",
       "      <th>1598760</th>\n",
       "      <td>0</td>\n",
       "      <td>シューズ</td>\n",
       "    </tr>\n",
       "    <tr>\n",
       "      <th>1598759</th>\n",
       "      <td>0</td>\n",
       "      <td>シューズ</td>\n",
       "    </tr>\n",
       "    <tr>\n",
       "      <th>1598758</th>\n",
       "      <td>0</td>\n",
       "      <td>シューズ</td>\n",
       "    </tr>\n",
       "    <tr>\n",
       "      <th>1598757</th>\n",
       "      <td>0</td>\n",
       "      <td>シューズ</td>\n",
       "    </tr>\n",
       "    <tr>\n",
       "      <th>1598756</th>\n",
       "      <td>0</td>\n",
       "      <td>シューズ</td>\n",
       "    </tr>\n",
       "    <tr>\n",
       "      <th>1598755</th>\n",
       "      <td>0</td>\n",
       "      <td>シューズ</td>\n",
       "    </tr>\n",
       "    <tr>\n",
       "      <th>1598754</th>\n",
       "      <td>0</td>\n",
       "      <td>シューズ</td>\n",
       "    </tr>\n",
       "    <tr>\n",
       "      <th>1598752</th>\n",
       "      <td>0</td>\n",
       "      <td>雑貨/ホビー/スポーツ</td>\n",
       "    </tr>\n",
       "    <tr>\n",
       "      <th>1598751</th>\n",
       "      <td>0</td>\n",
       "      <td>雑貨/ホビー/スポーツ</td>\n",
       "    </tr>\n",
       "    <tr>\n",
       "      <th>1576113</th>\n",
       "      <td>0</td>\n",
       "      <td>ジャケット/アウター</td>\n",
       "    </tr>\n",
       "    <tr>\n",
       "      <th>1598750</th>\n",
       "      <td>0</td>\n",
       "      <td>雑貨/ホビー/スポーツ</td>\n",
       "    </tr>\n",
       "    <tr>\n",
       "      <th>1598749</th>\n",
       "      <td>0</td>\n",
       "      <td>雑貨/ホビー/スポーツ</td>\n",
       "    </tr>\n",
       "    <tr>\n",
       "      <th>1592261</th>\n",
       "      <td>0</td>\n",
       "      <td>ジャケット/アウター</td>\n",
       "    </tr>\n",
       "    <tr>\n",
       "      <th>1576114</th>\n",
       "      <td>0</td>\n",
       "      <td>ジャケット/アウター</td>\n",
       "    </tr>\n",
       "    <tr>\n",
       "      <th>1583232</th>\n",
       "      <td>0</td>\n",
       "      <td>アンダーウェア</td>\n",
       "    </tr>\n",
       "    <tr>\n",
       "      <th>797955</th>\n",
       "      <td>0</td>\n",
       "      <td>シューズ</td>\n",
       "    </tr>\n",
       "    <tr>\n",
       "      <th>1583221</th>\n",
       "      <td>0</td>\n",
       "      <td>トップス</td>\n",
       "    </tr>\n",
       "    <tr>\n",
       "      <th>1583220</th>\n",
       "      <td>0</td>\n",
       "      <td>トップス</td>\n",
       "    </tr>\n",
       "    <tr>\n",
       "      <th>1583219</th>\n",
       "      <td>0</td>\n",
       "      <td>トップス</td>\n",
       "    </tr>\n",
       "    <tr>\n",
       "      <th>1583222</th>\n",
       "      <td>0</td>\n",
       "      <td>トップス</td>\n",
       "    </tr>\n",
       "    <tr>\n",
       "      <th>1583223</th>\n",
       "      <td>0</td>\n",
       "      <td>アンダーウェア</td>\n",
       "    </tr>\n",
       "    <tr>\n",
       "      <th>1583224</th>\n",
       "      <td>0</td>\n",
       "      <td>アンダーウェア</td>\n",
       "    </tr>\n",
       "    <tr>\n",
       "      <th>1598762</th>\n",
       "      <td>0</td>\n",
       "      <td>シューズ</td>\n",
       "    </tr>\n",
       "    <tr>\n",
       "      <th>1583225</th>\n",
       "      <td>0</td>\n",
       "      <td>アンダーウェア</td>\n",
       "    </tr>\n",
       "    <tr>\n",
       "      <th>1583227</th>\n",
       "      <td>0</td>\n",
       "      <td>アンダーウェア</td>\n",
       "    </tr>\n",
       "    <tr>\n",
       "      <th>1583228</th>\n",
       "      <td>0</td>\n",
       "      <td>アンダーウェア</td>\n",
       "    </tr>\n",
       "    <tr>\n",
       "      <th>1583229</th>\n",
       "      <td>0</td>\n",
       "      <td>アンダーウェア</td>\n",
       "    </tr>\n",
       "    <tr>\n",
       "      <th>1583230</th>\n",
       "      <td>0</td>\n",
       "      <td>アンダーウェア</td>\n",
       "    </tr>\n",
       "    <tr>\n",
       "      <th>1583231</th>\n",
       "      <td>0</td>\n",
       "      <td>アンダーウェア</td>\n",
       "    </tr>\n",
       "    <tr>\n",
       "      <th>797956</th>\n",
       "      <td>0</td>\n",
       "      <td>シューズ</td>\n",
       "    </tr>\n",
       "    <tr>\n",
       "      <th>1583226</th>\n",
       "      <td>0</td>\n",
       "      <td>アンダーウェア</td>\n",
       "    </tr>\n",
       "    <tr>\n",
       "      <th>1598763</th>\n",
       "      <td>0</td>\n",
       "      <td>シューズ</td>\n",
       "    </tr>\n",
       "    <tr>\n",
       "      <th>1598753</th>\n",
       "      <td>0</td>\n",
       "      <td>雑貨/ホビー/スポーツ</td>\n",
       "    </tr>\n",
       "    <tr>\n",
       "      <th>1598765</th>\n",
       "      <td>0</td>\n",
       "      <td>シューズ</td>\n",
       "    </tr>\n",
       "    <tr>\n",
       "      <th>1598764</th>\n",
       "      <td>0</td>\n",
       "      <td>シューズ</td>\n",
       "    </tr>\n",
       "    <tr>\n",
       "      <th>3587868</th>\n",
       "      <td>0</td>\n",
       "      <td>バッグ</td>\n",
       "    </tr>\n",
       "    <tr>\n",
       "      <th>3587869</th>\n",
       "      <td>0</td>\n",
       "      <td>バッグ</td>\n",
       "    </tr>\n",
       "    <tr>\n",
       "      <th>3588129</th>\n",
       "      <td>0</td>\n",
       "      <td>バッグ</td>\n",
       "    </tr>\n",
       "    <tr>\n",
       "      <th>3588131</th>\n",
       "      <td>0</td>\n",
       "      <td>バッグ</td>\n",
       "    </tr>\n",
       "    <tr>\n",
       "      <th>3587870</th>\n",
       "      <td>0</td>\n",
       "      <td>トップス</td>\n",
       "    </tr>\n",
       "    <tr>\n",
       "      <th>1598766</th>\n",
       "      <td>0</td>\n",
       "      <td>シューズ</td>\n",
       "    </tr>\n",
       "    <tr>\n",
       "      <th>1598770</th>\n",
       "      <td>0</td>\n",
       "      <td>トップス</td>\n",
       "    </tr>\n",
       "    <tr>\n",
       "      <th>1598769</th>\n",
       "      <td>0</td>\n",
       "      <td>トップス</td>\n",
       "    </tr>\n",
       "    <tr>\n",
       "      <th>1598768</th>\n",
       "      <td>0</td>\n",
       "      <td>トップス</td>\n",
       "    </tr>\n",
       "    <tr>\n",
       "      <th>1598767</th>\n",
       "      <td>0</td>\n",
       "      <td>シューズ</td>\n",
       "    </tr>\n",
       "    <tr>\n",
       "      <th>962859</th>\n",
       "      <td>1</td>\n",
       "      <td>アンダーウェア</td>\n",
       "    </tr>\n",
       "    <tr>\n",
       "      <th>962840</th>\n",
       "      <td>1</td>\n",
       "      <td>アンダーウェア</td>\n",
       "    </tr>\n",
       "    <tr>\n",
       "      <th>962839</th>\n",
       "      <td>1</td>\n",
       "      <td>アンダーウェア</td>\n",
       "    </tr>\n",
       "  </tbody>\n",
       "</table>\n",
       "</div>"
      ],
      "text/plain": [
       "         customer_id item_category_1\n",
       "3588130            0             バッグ\n",
       "1598761            0            シューズ\n",
       "1598760            0            シューズ\n",
       "1598759            0            シューズ\n",
       "1598758            0            シューズ\n",
       "1598757            0            シューズ\n",
       "1598756            0            シューズ\n",
       "1598755            0            シューズ\n",
       "1598754            0            シューズ\n",
       "1598752            0     雑貨/ホビー/スポーツ\n",
       "1598751            0     雑貨/ホビー/スポーツ\n",
       "1576113            0      ジャケット/アウター\n",
       "1598750            0     雑貨/ホビー/スポーツ\n",
       "1598749            0     雑貨/ホビー/スポーツ\n",
       "1592261            0      ジャケット/アウター\n",
       "1576114            0      ジャケット/アウター\n",
       "1583232            0         アンダーウェア\n",
       "797955             0            シューズ\n",
       "1583221            0            トップス\n",
       "1583220            0            トップス\n",
       "1583219            0            トップス\n",
       "1583222            0            トップス\n",
       "1583223            0         アンダーウェア\n",
       "1583224            0         アンダーウェア\n",
       "1598762            0            シューズ\n",
       "1583225            0         アンダーウェア\n",
       "1583227            0         アンダーウェア\n",
       "1583228            0         アンダーウェア\n",
       "1583229            0         アンダーウェア\n",
       "1583230            0         アンダーウェア\n",
       "1583231            0         アンダーウェア\n",
       "797956             0            シューズ\n",
       "1583226            0         アンダーウェア\n",
       "1598763            0            シューズ\n",
       "1598753            0     雑貨/ホビー/スポーツ\n",
       "1598765            0            シューズ\n",
       "1598764            0            シューズ\n",
       "3587868            0             バッグ\n",
       "3587869            0             バッグ\n",
       "3588129            0             バッグ\n",
       "3588131            0             バッグ\n",
       "3587870            0            トップス\n",
       "1598766            0            シューズ\n",
       "1598770            0            トップス\n",
       "1598769            0            トップス\n",
       "1598768            0            トップス\n",
       "1598767            0            シューズ\n",
       "962859             1         アンダーウェア\n",
       "962840             1         アンダーウェア\n",
       "962839             1         アンダーウェア"
      ]
     },
     "execution_count": 5,
     "metadata": {},
     "output_type": "execute_result"
    }
   ],
   "source": [
    "unique_customer_id = set(df.customer_id)\n",
    "dict_customer_id = dict(zip(list(unique_customer_id), [i for i in range(len(unique_customer_id))]))\n",
    "\n",
    "df.customer_id= df.customer_id.apply(lambda x: dict_customer_id[x])\n",
    "df.sort(columns='customer_id').head(50)"
   ]
  },
  {
   "cell_type": "markdown",
   "metadata": {},
   "source": [
    "BOW(bag-of-words)表現に変換する．  \n",
    "各ユーザがどの商品を購入したのかを**重複あり**で表現する．\n",
    "  \n",
    "bows = [[user1が購入した商品], [user2が購入した商品], ..., [userNが購入した商品]]"
   ]
  },
  {
   "cell_type": "code",
   "execution_count": 6,
   "metadata": {
    "collapsed": false
   },
   "outputs": [
    {
     "name": "stdout",
     "output_type": "stream",
     "text": [
      "[['シューズ', 'シューズ', 'ジャケット/アウター', 'ジャケット/アウター', 'トップス', 'トップス', 'トップス', 'トップス', 'アンダーウェア', 'アンダーウェア', 'アンダーウェア', 'アンダーウェア', 'アンダーウェア', 'アンダーウェア', 'アンダーウェア', 'アンダーウェア', 'アンダーウェア', 'アンダーウェア', 'ジャケット/アウター', '雑貨/ホビー/スポーツ', '雑貨/ホビー/スポーツ', '雑貨/ホビー/スポーツ', '雑貨/ホビー/スポーツ', '雑貨/ホビー/スポーツ', 'シューズ', 'シューズ', 'シューズ', 'シューズ', 'シューズ', 'シューズ', 'シューズ', 'シューズ', 'シューズ', 'シューズ', 'シューズ', 'シューズ', 'シューズ', 'シューズ', 'トップス', 'トップス', 'トップス', 'バッグ', 'バッグ', 'トップス', 'バッグ', 'バッグ', 'バッグ'], ['帽子', '帽子', '帽子', '帽子', '帽子', '帽子', '帽子', 'アンダーウェア', 'アンダーウェア', 'アンダーウェア', 'アンダーウェア', 'アンダーウェア', 'アンダーウェア', 'アンダーウェア', 'アンダーウェア', 'アンダーウェア', 'アンダーウェア', 'アンダーウェア', 'アンダーウェア', 'アンダーウェア', 'アンダーウェア', 'アンダーウェア', 'アンダーウェア', 'アンダーウェア', 'アンダーウェア', 'アンダーウェア', 'アンダーウェア', 'アンダーウェア', 'アンダーウェア', 'アンダーウェア', 'アンダーウェア', 'アンダーウェア', 'アンダーウェア', 'アンダーウェア', 'アンダーウェア', 'アンダーウェア', 'アンダーウェア', 'アンダーウェア', 'アンダーウェア', 'アンダーウェア', 'アンダーウェア', 'アンダーウェア', 'アンダーウェア', 'アンダーウェア', 'アンダーウェア', 'アンダーウェア', 'アンダーウェア', 'アンダーウェア', 'アンダーウェア', 'アンダーウェア', 'アンダーウェア', 'アンダーウェア', 'アンダーウェア', 'アンダーウェア', 'アンダーウェア', 'アンダーウェア', 'アンダーウェア', 'アンダーウェア', 'アンダーウェア', 'アンダーウェア', 'アンダーウェア', 'スカート', 'スカート', 'スカート', 'スカート', 'スカート', 'パンツ', 'パンツ', 'パンツ', 'パンツ', 'パンツ', 'パンツ', 'パンツ', 'パンツ', 'パンツ', 'パンツ', 'バッグ', 'バッグ', 'バッグ', 'ワンピース', 'ワンピース', '雑貨/ホビー/スポーツ', '雑貨/ホビー/スポーツ', '帽子', '帽子', 'トップス']]\n"
     ]
    }
   ],
   "source": [
    "bows = [[] for i in range(len(unique_customer_id))]\n",
    "for (c, i) in df.as_matrix():\n",
    "    bows[c].append(str(i))\n",
    "\n",
    "# user1 と user2のbowを表示\n",
    "print(bows[0:2])"
   ]
  },
  {
   "cell_type": "markdown",
   "metadata": {},
   "source": [
    "購入商品が10未満の人を除外しておく"
   ]
  },
  {
   "cell_type": "code",
   "execution_count": 7,
   "metadata": {
    "collapsed": false
   },
   "outputs": [],
   "source": [
    "bows = list(filter(lambda x: len(x)>10, bows))"
   ]
  },
  {
   "cell_type": "markdown",
   "metadata": {},
   "source": [
    "カテゴリー名を記号と対応付けさせた**辞書を用意**する．"
   ]
  },
  {
   "cell_type": "code",
   "execution_count": 8,
   "metadata": {
    "collapsed": false
   },
   "outputs": [
    {
     "name": "stdout",
     "output_type": "stream",
     "text": [
      "Dictionary(25 unique tokens: ['ファッション雑貨', '財布/小物', '雑貨/ホビー/スポーツ', 'レッグウェア', 'シューズ']...)\n",
      "\n",
      "{'ファッション雑貨': 10, '財布/小物': 16, '雑貨/ホビー/スポーツ': 0, 'レッグウェア': 14, 'シューズ': 2, 'コスメ/香水': 21, 'マタニティ・ベビー': 15, 'スーツ/ネクタイ': 22, 'ヘアアクセサリー': 18, '食器/キッチン': 23, 'スカート': 7, '時計': 11, 'その他': 12, '帽子': 8, 'パンツ': 6, 'ワンピース': 9, 'インテリア': 20, 'バッグ': 1, '水着/着物・浴衣': 19, '音楽/本・雑誌': 17, 'ジャケット/アウター': 4, 'オールインワン・サロペット': 24, 'アクセサリー': 13, 'アンダーウェア': 3, 'トップス': 5}\n"
     ]
    }
   ],
   "source": [
    "dictionary = corpora.Dictionary(bows)\n",
    "print(dictionary)\n",
    "print('')\n",
    "print(dictionary.token2id)"
   ]
  },
  {
   "cell_type": "markdown",
   "metadata": {},
   "source": [
    "顧客ごとにどの商品を何回購入したのかを示す**コーパスを用意**する．"
   ]
  },
  {
   "cell_type": "code",
   "execution_count": 9,
   "metadata": {
    "collapsed": false
   },
   "outputs": [
    {
     "name": "stdout",
     "output_type": "stream",
     "text": [
      "[[(0, 5), (1, 5), (2, 16), (3, 10), (4, 3), (5, 8)], [(0, 2), (1, 3), (3, 54), (5, 1), (6, 10), (7, 5), (8, 9), (9, 2)], [(1, 3), (2, 23), (4, 10), (5, 84), (6, 4), (10, 2), (11, 2), (12, 2), (13, 3), (14, 6)]]\n"
     ]
    }
   ],
   "source": [
    "corpus = [dictionary.doc2bow(bow) for bow in bows]\n",
    "print(corpus[0:3])"
   ]
  },
  {
   "cell_type": "markdown",
   "metadata": {},
   "source": [
    "## LDAの実行\n",
    "---"
   ]
  },
  {
   "cell_type": "markdown",
   "metadata": {},
   "source": [
    "学習データと試験データに分割する．"
   ]
  },
  {
   "cell_type": "code",
   "execution_count": 10,
   "metadata": {
    "collapsed": false
   },
   "outputs": [],
   "source": [
    "p = int(len(corpus)*0.6)\n",
    "corpus_train = corpus[0:p]\n",
    "corpus_test = corpus[p:]"
   ]
  },
  {
   "cell_type": "markdown",
   "metadata": {},
   "source": [
    "LDAを異なるトピック数(1,3,7,10,15,30)で実行する．（適切なトピックするを見つけたい）  \n",
    "評価基準 (perplexity)が低いほど良い．"
   ]
  },
  {
   "cell_type": "code",
   "execution_count": 11,
   "metadata": {
    "collapsed": false
   },
   "outputs": [
    {
     "name": "stdout",
     "output_type": "stream",
     "text": [
      "topic_number : 1\n",
      "Elapsed time : 5.793921947479248\n",
      "Perplexity : 8.37193519154\n",
      "\n",
      "topic_number : 3\n",
      "Elapsed time : 28.08594298362732\n",
      "Perplexity : 6.74289688683\n",
      "\n",
      "topic_number : 5\n",
      "Elapsed time : 30.95033288002014\n",
      "Perplexity : 5.45624794\n",
      "\n",
      "topic_number : 7\n",
      "Elapsed time : 40.23318791389465\n",
      "Perplexity : 5.08423187349\n",
      "\n",
      "topic_number : 10\n",
      "Elapsed time : 30.30671215057373\n",
      "Perplexity : 4.72695542602\n",
      "\n",
      "topic_number : 15\n",
      "Elapsed time : 37.195098876953125\n",
      "Perplexity : 4.59674833701\n",
      "\n",
      "topic_number : 30\n",
      "Elapsed time : 33.50134301185608\n",
      "Perplexity : 4.48655197772\n",
      "\n",
      "topic_number : 50\n",
      "Elapsed time : 48.260358810424805\n",
      "Perplexity : 4.61736937758\n",
      "\n"
     ]
    }
   ],
   "source": [
    "num_of_topics = [1, 3, 5, 7, 10, 15, 30, 50]\n",
    "perplex_list = []\n",
    "\n",
    "def calc_perplexity(m, c):\n",
    "    return np.exp(-m.log_perplexity(c))\n",
    "\n",
    "for k in num_of_topics:\n",
    "    print(\"topic_number : %d\" %k)\n",
    "    start_time = time.time()\n",
    "    \n",
    "    # モデル実行\n",
    "    model = gensim.models.ldamodel.LdaModel(corpus=corpus_train, id2word=dictionary, num_topics=k)\n",
    "    \n",
    "    # 経過時間表示\n",
    "    print(\"Elapsed time : %s\" %(time.time() - start_time))\n",
    "    \n",
    "    # Perplexity(評価基準)の表示\n",
    "    perplexity =  calc_perplexity(model, corpus_test)\n",
    "    print(\"Perplexity : %s\" %perplexity)\n",
    "    perplex_list.append(perplexity)\n",
    "    \n",
    "    print(\"\")\n",
    "    "
   ]
  },
  {
   "cell_type": "markdown",
   "metadata": {},
   "source": [
    "横軸にトピック数，縦軸にperplexityをとってグラフにプロットする．\n",
    "perplexityは低い方が良いが，トピック数(顧客のクラスタ数）が多すぎると解釈が難しくなるので10を採用．"
   ]
  },
  {
   "cell_type": "code",
   "execution_count": 12,
   "metadata": {
    "collapsed": false
   },
   "outputs": [
    {
     "data": {
      "text/plain": [
       "<matplotlib.text.Text at 0x1186993c8>"
      ]
     },
     "execution_count": 12,
     "metadata": {},
     "output_type": "execute_result"
    },
    {
     "data": {
      "image/png": "[encoded data removed]",
      "text/plain": [
       "<matplotlib.figure.Figure at 0x11a4ccef0>"
      ]
     },
     "metadata": {},
     "output_type": "display_data"
    }
   ],
   "source": [
    "plt.figure(figsize=(10, 5))\n",
    "plt.plot(num_of_topics, perplex_list)\n",
    "plt.ylabel(\"perplexity\")\n",
    "plt.xlabel(\"number of topic\")"
   ]
  },
  {
   "cell_type": "markdown",
   "metadata": {},
   "source": [
    "トピック数（クラスタ数）が10のモデルを再計算する．"
   ]
  },
  {
   "cell_type": "code",
   "execution_count": 13,
   "metadata": {
    "collapsed": false
   },
   "outputs": [],
   "source": [
    "model = gensim.models.ldamodel.LdaModel(corpus=corpus_train, id2word=dictionary, num_topics=10)"
   ]
  },
  {
   "cell_type": "markdown",
   "metadata": {},
   "source": [
    "トピックごとの距離を計算する．（距離が遠い方が良い）  \n",
    "けど，割と近いから良い結果が出てないっぽい．（全体的に色が濃い（近い））\n",
    "(※擬距離を求めているので対称性を満たさないことに注意）"
   ]
  },
  {
   "cell_type": "code",
   "execution_count": 14,
   "metadata": {
    "collapsed": false
   },
   "outputs": [
    {
     "data": {
      "image/png": "[encoded data removed]",
      "text/plain": [
       "<matplotlib.figure.Figure at 0x118a74320>"
      ]
     },
     "metadata": {},
     "output_type": "display_data"
    }
   ],
   "source": [
    "def calc_topic_distances(model, topic):\n",
    "    \n",
    "    def kldiv(p, q):\n",
    "        distance = np.sum(p * np.log(p / q))\n",
    "        return distance\n",
    "    \n",
    "    t = model.state.get_lambda()\n",
    "    for i in range(len(t)):\n",
    "        t[i] = t[i] / sum(t[i])\n",
    "\n",
    "    base = t[topic]\n",
    "    distances = [(i_p[0], kldiv(base, i_p[1])) for i_p in enumerate(t) if i_p[0] != topic]\n",
    "    return distances\n",
    "\n",
    "def plot_distance_matrix(model):\n",
    "    \n",
    "    mt = []\n",
    "    for i in range(model.num_topics):\n",
    "        d = calc_topic_distances(model, i)\n",
    "        d.insert(i, (i, 0)) \n",
    "        d = [_d[1] for _d in d]\n",
    "        mt.append(d)\n",
    "\n",
    "    mt = np.array(mt)\n",
    "    \n",
    "    plt.figure(figsize=(8, 8))\n",
    "    plt.imshow(mt, interpolation=\"nearest\", cmap=plt.cm.ocean)\n",
    "    plt.yticks(range(mt.shape[0]))\n",
    "    plt.xticks(range(mt.shape[1]))\n",
    "    plt.colorbar()\n",
    "    plt.show()\n",
    "\n",
    "plot_distance_matrix(model)"
   ]
  },
  {
   "cell_type": "markdown",
   "metadata": {},
   "source": [
    "トピック（顧客の集団）ごとの好みを表示．  \n",
    "解釈むずかしい〜〜 (でもなんとなく分かれてるのかな...??)"
   ]
  },
  {
   "cell_type": "code",
   "execution_count": 15,
   "metadata": {
    "collapsed": false
   },
   "outputs": [
    {
     "name": "stdout",
     "output_type": "stream",
     "text": [
      "-----  topic 0  -----\n",
      "\n",
      "92.8 %    トップス\n",
      " 2.5 %    パンツ\n",
      " 1.1 %    シューズ\n",
      " 0.8 %    バッグ\n",
      " 0.8 %    ジャケット/アウター\n",
      "\n",
      "-----  topic 1  -----\n",
      "\n",
      "87.0 %    レッグウェア\n",
      " 4.6 %    トップス\n",
      " 1.3 %    バッグ\n",
      " 1.2 %    シューズ\n",
      " 0.9 %    財布/小物\n",
      "\n",
      "-----  topic 2  -----\n",
      "\n",
      "46.2 %    ワンピース\n",
      "20.4 %    帽子\n",
      " 5.6 %    トップス\n",
      " 5.5 %    オールインワン・サロペット\n",
      " 5.4 %    シューズ\n",
      "\n",
      "-----  topic 3  -----\n",
      "\n",
      "21.2 %    財布/小物\n",
      "19.0 %    バッグ\n",
      "16.1 %    インテリア\n",
      "14.1 %    雑貨/ホビー/スポーツ\n",
      " 9.3 %    食器/キッチン\n",
      "\n",
      "-----  topic 4  -----\n",
      "\n",
      "79.8 %    パンツ\n",
      "12.7 %    トップス\n",
      " 2.0 %    シューズ\n",
      " 1.7 %    ジャケット/アウター\n",
      " 1.0 %    バッグ\n",
      "\n",
      "-----  topic 5  -----\n",
      "\n",
      "33.8 %    アクセサリー\n",
      "20.2 %    ファッション雑貨\n",
      "12.2 %    トップス\n",
      "11.3 %    ヘアアクセサリー\n",
      " 7.2 %    シューズ\n",
      "\n",
      "-----  topic 6  -----\n",
      "\n",
      "84.3 %    シューズ\n",
      " 8.7 %    トップス\n",
      " 2.5 %    バッグ\n",
      " 1.1 %    パンツ\n",
      " 0.5 %    ジャケット/アウター\n",
      "\n",
      "-----  topic 7  -----\n",
      "\n",
      "92.3 %    アンダーウェア\n",
      " 3.0 %    トップス\n",
      " 0.9 %    シューズ\n",
      " 0.9 %    スカート\n",
      " 0.7 %    バッグ\n",
      "\n",
      "-----  topic 8  -----\n",
      "\n",
      "53.1 %    ジャケット/アウター\n",
      "20.1 %    スカート\n",
      "11.9 %    トップス\n",
      " 7.6 %    バッグ\n",
      " 2.4 %    シューズ\n",
      "\n",
      "-----  topic 9  -----\n",
      "\n",
      "54.3 %    その他\n",
      "24.4 %    トップス\n",
      " 6.8 %    パンツ\n",
      " 4.8 %    シューズ\n",
      " 2.0 %    ジャケット/アウター\n",
      "\n"
     ]
    }
   ],
   "source": [
    "for k in range(model.num_topics):\n",
    "    print(\"-----  topic %d  -----\" %k)\n",
    "    print(\"\")\n",
    "    res = model.show_topic(k, topn=5)\n",
    "    for (text, p) in res:\n",
    "        print(str(round(p*100,1)).rjust(4),\"%   \", text)\n",
    "    print(\"\")"
   ]
  },
  {
   "cell_type": "markdown",
   "metadata": {},
   "source": [
    "## 感想\n",
    "---\n",
    "初めてなのでうまくいったのか，いってないのかよく分からない．  \n",
    "次は\n",
    "- カテゴリの区分を変更したり  \n",
    "- 補助情報とか時系列情報  \n",
    "を入れてみようかな"
   ]
  },
  {
   "cell_type": "code",
   "execution_count": null,
   "metadata": {
    "collapsed": true
   },
   "outputs": [],
   "source": []
  }
 ],
 "metadata": {
  "kernelspec": {
   "display_name": "Python 3",
   "language": "python",
   "name": "python3"
  },
  "language_info": {
   "codemirror_mode": {
    "name": "ipython",
    "version": 3
   },
   "file_extension": ".py",
   "mimetype": "text/x-python",
   "name": "python",
   "nbconvert_exporter": "python",
   "pygments_lexer": "ipython3",
   "version": "3.5.1"
  }
 },
 "nbformat": 4,
 "nbformat_minor": 0
}
