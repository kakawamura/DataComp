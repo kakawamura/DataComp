{
 "cells": [
  {
   "cell_type": "code",
   "execution_count": 1,
   "metadata": {
    "collapsed": true
   },
   "outputs": [],
   "source": [
    "import numpy as np\n",
    "import pandas as pd"
   ]
  },
  {
   "cell_type": "code",
   "execution_count": 2,
   "metadata": {
    "collapsed": true
   },
   "outputs": [],
   "source": [
    "order = pd.read_csv(\"/Users/TakayukiYagi/Developer/M1/competition/data/order.csv\")\n",
    "detail = pd.read_csv(\"/Users/TakayukiYagi/Developer/M1/competition/data/order_detail.csv\")\n",
    "item = pd.read_csv(\"/Users/TakayukiYagi/Developer/M1/competition/data/item.csv\")"
   ]
  },
  {
   "cell_type": "code",
   "execution_count": 3,
   "metadata": {
    "collapsed": false
   },
   "outputs": [
    {
     "data": {
      "text/html": [
       "<div>\n",
       "<table border=\"1\" class=\"dataframe\">\n",
       "  <thead>\n",
       "    <tr style=\"text-align: right;\">\n",
       "      <th></th>\n",
       "      <th>customer_id</th>\n",
       "      <th>order_id</th>\n",
       "      <th>reservation_flag</th>\n",
       "      <th>device</th>\n",
       "      <th>order_date</th>\n",
       "      <th>additional_fee</th>\n",
       "    </tr>\n",
       "  </thead>\n",
       "  <tbody>\n",
       "    <tr>\n",
       "      <th>0</th>\n",
       "      <td>5537</td>\n",
       "      <td>79349</td>\n",
       "      <td>0</td>\n",
       "      <td>2</td>\n",
       "      <td>2015-06-07 12:29</td>\n",
       "      <td>0</td>\n",
       "    </tr>\n",
       "    <tr>\n",
       "      <th>1</th>\n",
       "      <td>16937</td>\n",
       "      <td>253453</td>\n",
       "      <td>0</td>\n",
       "      <td>1</td>\n",
       "      <td>2015-10-04 17:37</td>\n",
       "      <td>0</td>\n",
       "    </tr>\n",
       "    <tr>\n",
       "      <th>2</th>\n",
       "      <td>22657</td>\n",
       "      <td>34084</td>\n",
       "      <td>0</td>\n",
       "      <td>1</td>\n",
       "      <td>2015-04-29 12:09</td>\n",
       "      <td>0</td>\n",
       "    </tr>\n",
       "    <tr>\n",
       "      <th>3</th>\n",
       "      <td>24217</td>\n",
       "      <td>180215</td>\n",
       "      <td>0</td>\n",
       "      <td>1</td>\n",
       "      <td>2015-08-08 10:15</td>\n",
       "      <td>1000</td>\n",
       "    </tr>\n",
       "    <tr>\n",
       "      <th>4</th>\n",
       "      <td>68938</td>\n",
       "      <td>148043</td>\n",
       "      <td>0</td>\n",
       "      <td>2</td>\n",
       "      <td>2015-07-17 11:55</td>\n",
       "      <td>0</td>\n",
       "    </tr>\n",
       "  </tbody>\n",
       "</table>\n",
       "</div>"
      ],
      "text/plain": [
       "   customer_id  order_id  reservation_flag  device        order_date  \\\n",
       "0         5537     79349                 0       2  2015-06-07 12:29   \n",
       "1        16937    253453                 0       1  2015-10-04 17:37   \n",
       "2        22657     34084                 0       1  2015-04-29 12:09   \n",
       "3        24217    180215                 0       1  2015-08-08 10:15   \n",
       "4        68938    148043                 0       2  2015-07-17 11:55   \n",
       "\n",
       "   additional_fee  \n",
       "0               0  \n",
       "1               0  \n",
       "2               0  \n",
       "3            1000  \n",
       "4               0  "
      ]
     },
     "execution_count": 3,
     "metadata": {},
     "output_type": "execute_result"
    }
   ],
   "source": [
    "order.head(5)"
   ]
  },
  {
   "cell_type": "code",
   "execution_count": 4,
   "metadata": {
    "collapsed": false
   },
   "outputs": [
    {
     "data": {
      "text/html": [
       "<div>\n",
       "<table border=\"1\" class=\"dataframe\">\n",
       "  <thead>\n",
       "    <tr style=\"text-align: right;\">\n",
       "      <th></th>\n",
       "      <th>order_id</th>\n",
       "      <th>order_detail_id</th>\n",
       "      <th>item_id</th>\n",
       "      <th>item_detail_id</th>\n",
       "      <th>sale_item_flag</th>\n",
       "      <th>order_amount</th>\n",
       "      <th>quantity</th>\n",
       "    </tr>\n",
       "  </thead>\n",
       "  <tbody>\n",
       "    <tr>\n",
       "      <th>0</th>\n",
       "      <td>250201</td>\n",
       "      <td>1</td>\n",
       "      <td>200824</td>\n",
       "      <td>1</td>\n",
       "      <td>0</td>\n",
       "      <td>11000</td>\n",
       "      <td>1</td>\n",
       "    </tr>\n",
       "    <tr>\n",
       "      <th>1</th>\n",
       "      <td>388563</td>\n",
       "      <td>1</td>\n",
       "      <td>330021</td>\n",
       "      <td>1</td>\n",
       "      <td>0</td>\n",
       "      <td>2000</td>\n",
       "      <td>1</td>\n",
       "    </tr>\n",
       "    <tr>\n",
       "      <th>2</th>\n",
       "      <td>73679</td>\n",
       "      <td>1</td>\n",
       "      <td>81856</td>\n",
       "      <td>3</td>\n",
       "      <td>1</td>\n",
       "      <td>3000</td>\n",
       "      <td>1</td>\n",
       "    </tr>\n",
       "    <tr>\n",
       "      <th>3</th>\n",
       "      <td>582406</td>\n",
       "      <td>2</td>\n",
       "      <td>427342</td>\n",
       "      <td>1</td>\n",
       "      <td>0</td>\n",
       "      <td>2000</td>\n",
       "      <td>1</td>\n",
       "    </tr>\n",
       "    <tr>\n",
       "      <th>4</th>\n",
       "      <td>361403</td>\n",
       "      <td>1</td>\n",
       "      <td>32182</td>\n",
       "      <td>1</td>\n",
       "      <td>1</td>\n",
       "      <td>3000</td>\n",
       "      <td>1</td>\n",
       "    </tr>\n",
       "  </tbody>\n",
       "</table>\n",
       "</div>"
      ],
      "text/plain": [
       "   order_id  order_detail_id  item_id  item_detail_id  sale_item_flag  \\\n",
       "0    250201                1   200824               1               0   \n",
       "1    388563                1   330021               1               0   \n",
       "2     73679                1    81856               3               1   \n",
       "3    582406                2   427342               1               0   \n",
       "4    361403                1    32182               1               1   \n",
       "\n",
       "   order_amount  quantity  \n",
       "0         11000         1  \n",
       "1          2000         1  \n",
       "2          3000         1  \n",
       "3          2000         1  \n",
       "4          3000         1  "
      ]
     },
     "execution_count": 4,
     "metadata": {},
     "output_type": "execute_result"
    }
   ],
   "source": [
    "detail.head(5)"
   ]
  },
  {
   "cell_type": "code",
   "execution_count": 5,
   "metadata": {
    "collapsed": false
   },
   "outputs": [
    {
     "data": {
      "text/html": [
       "<div>\n",
       "<table border=\"1\" class=\"dataframe\">\n",
       "  <thead>\n",
       "    <tr style=\"text-align: right;\">\n",
       "      <th></th>\n",
       "      <th>item_id</th>\n",
       "      <th>item_detail_id</th>\n",
       "      <th>color</th>\n",
       "      <th>color_category</th>\n",
       "      <th>size</th>\n",
       "      <th>item_category_1</th>\n",
       "      <th>item_category_2</th>\n",
       "      <th>shop_id</th>\n",
       "      <th>brand_id</th>\n",
       "    </tr>\n",
       "  </thead>\n",
       "  <tbody>\n",
       "    <tr>\n",
       "      <th>0</th>\n",
       "      <td>1092</td>\n",
       "      <td>1</td>\n",
       "      <td>ブラック</td>\n",
       "      <td>ブラック系</td>\n",
       "      <td>ONE SIZE</td>\n",
       "      <td>バッグ</td>\n",
       "      <td>トートバッグ</td>\n",
       "      <td>279</td>\n",
       "      <td>5309</td>\n",
       "    </tr>\n",
       "    <tr>\n",
       "      <th>1</th>\n",
       "      <td>7784</td>\n",
       "      <td>1</td>\n",
       "      <td>その他1</td>\n",
       "      <td>その他</td>\n",
       "      <td>ONE SIZE</td>\n",
       "      <td>財布/小物</td>\n",
       "      <td>ポーチ</td>\n",
       "      <td>24</td>\n",
       "      <td>87</td>\n",
       "    </tr>\n",
       "    <tr>\n",
       "      <th>2</th>\n",
       "      <td>8008</td>\n",
       "      <td>2</td>\n",
       "      <td>その他11</td>\n",
       "      <td>その他</td>\n",
       "      <td>FREE</td>\n",
       "      <td>アクセサリー</td>\n",
       "      <td>ピアス（両耳用）</td>\n",
       "      <td>279</td>\n",
       "      <td>5309</td>\n",
       "    </tr>\n",
       "    <tr>\n",
       "      <th>3</th>\n",
       "      <td>8008</td>\n",
       "      <td>1</td>\n",
       "      <td>その他2</td>\n",
       "      <td>その他</td>\n",
       "      <td>FREE</td>\n",
       "      <td>アクセサリー</td>\n",
       "      <td>ピアス（両耳用）</td>\n",
       "      <td>279</td>\n",
       "      <td>5309</td>\n",
       "    </tr>\n",
       "    <tr>\n",
       "      <th>4</th>\n",
       "      <td>9250</td>\n",
       "      <td>3</td>\n",
       "      <td>ネイビー</td>\n",
       "      <td>ブルー系</td>\n",
       "      <td>MEDIUM</td>\n",
       "      <td>トップス</td>\n",
       "      <td>Tシャツ/カットソー</td>\n",
       "      <td>443</td>\n",
       "      <td>5791</td>\n",
       "    </tr>\n",
       "  </tbody>\n",
       "</table>\n",
       "</div>"
      ],
      "text/plain": [
       "   item_id  item_detail_id  color color_category      size item_category_1  \\\n",
       "0     1092               1   ブラック          ブラック系  ONE SIZE             バッグ   \n",
       "1     7784               1   その他1            その他  ONE SIZE           財布/小物   \n",
       "2     8008               2  その他11            その他      FREE          アクセサリー   \n",
       "3     8008               1   その他2            その他      FREE          アクセサリー   \n",
       "4     9250               3   ネイビー           ブルー系    MEDIUM            トップス   \n",
       "\n",
       "  item_category_2  shop_id  brand_id  \n",
       "0          トートバッグ      279      5309  \n",
       "1             ポーチ       24        87  \n",
       "2        ピアス（両耳用）      279      5309  \n",
       "3        ピアス（両耳用）      279      5309  \n",
       "4      Tシャツ/カットソー      443      5791  "
      ]
     },
     "execution_count": 5,
     "metadata": {},
     "output_type": "execute_result"
    }
   ],
   "source": [
    "item.head(5)"
   ]
  },
  {
   "cell_type": "code",
   "execution_count": 6,
   "metadata": {
    "collapsed": true
   },
   "outputs": [],
   "source": [
    "df = pd.merge(pd.merge(order, detail, on='order_id', how='left'), item, on=['item_id', 'item_detail_id'], how='left')[['order_date' ,'customer_id', 'item_category_2']].dropna()"
   ]
  },
  {
   "cell_type": "code",
   "execution_count": 8,
   "metadata": {
    "collapsed": false
   },
   "outputs": [
    {
     "data": {
      "text/html": [
       "<div>\n",
       "<table border=\"1\" class=\"dataframe\">\n",
       "  <thead>\n",
       "    <tr style=\"text-align: right;\">\n",
       "      <th></th>\n",
       "      <th>order_date</th>\n",
       "      <th>customer_id</th>\n",
       "      <th>item_category_2</th>\n",
       "    </tr>\n",
       "  </thead>\n",
       "  <tbody>\n",
       "    <tr>\n",
       "      <th>0</th>\n",
       "      <td>2015-06-07 12:29</td>\n",
       "      <td>5537</td>\n",
       "      <td>ステッカー/テープ</td>\n",
       "    </tr>\n",
       "    <tr>\n",
       "      <th>1</th>\n",
       "      <td>2015-06-07 12:29</td>\n",
       "      <td>5537</td>\n",
       "      <td>ステッカー/テープ</td>\n",
       "    </tr>\n",
       "    <tr>\n",
       "      <th>2</th>\n",
       "      <td>2015-06-07 12:29</td>\n",
       "      <td>5537</td>\n",
       "      <td>ステッカー/テープ</td>\n",
       "    </tr>\n",
       "    <tr>\n",
       "      <th>3</th>\n",
       "      <td>2015-06-07 12:29</td>\n",
       "      <td>5537</td>\n",
       "      <td>ステッカー/テープ</td>\n",
       "    </tr>\n",
       "    <tr>\n",
       "      <th>4</th>\n",
       "      <td>2015-10-04 17:37</td>\n",
       "      <td>16937</td>\n",
       "      <td>Tシャツ/カットソー</td>\n",
       "    </tr>\n",
       "  </tbody>\n",
       "</table>\n",
       "</div>"
      ],
      "text/plain": [
       "         order_date  customer_id item_category_2\n",
       "0  2015-06-07 12:29         5537       ステッカー/テープ\n",
       "1  2015-06-07 12:29         5537       ステッカー/テープ\n",
       "2  2015-06-07 12:29         5537       ステッカー/テープ\n",
       "3  2015-06-07 12:29         5537       ステッカー/テープ\n",
       "4  2015-10-04 17:37        16937      Tシャツ/カットソー"
      ]
     },
     "execution_count": 8,
     "metadata": {},
     "output_type": "execute_result"
    }
   ],
   "source": [
    "df.head(5)"
   ]
  },
  {
   "cell_type": "code",
   "execution_count": 21,
   "metadata": {
    "collapsed": true
   },
   "outputs": [],
   "source": [
    "def str2date(tstr):\n",
    "    import datetime\n",
    "    tdatetime = datetime.datetime.strptime(tstr, '%Y-%m-%d %H:%M')\n",
    "    tdate = datetime.date(tdatetime.year, tdatetime.month, tdatetime.day)\n",
    "    return tdate"
   ]
  },
  {
   "cell_type": "code",
   "execution_count": 25,
   "metadata": {
    "collapsed": false
   },
   "outputs": [],
   "source": [
    "df.order_date = df.order_date.apply(str2date)"
   ]
  },
  {
   "cell_type": "code",
   "execution_count": 35,
   "metadata": {
    "collapsed": false
   },
   "outputs": [
    {
     "data": {
      "text/plain": [
       "datetime.date(2016, 3, 31)"
      ]
     },
     "execution_count": 35,
     "metadata": {},
     "output_type": "execute_result"
    }
   ],
   "source": [
    "min_date = df.order_date.min()\n",
    "max_date = df.order_date.max()"
   ]
  },
  {
   "cell_type": "code",
   "execution_count": null,
   "metadata": {
    "collapsed": true
   },
   "outputs": [],
   "source": []
  }
 ],
 "metadata": {
  "kernelspec": {
   "display_name": "Python 3",
   "language": "python",
   "name": "python3"
  },
  "language_info": {
   "codemirror_mode": {
    "name": "ipython",
    "version": 3
   },
   "file_extension": ".py",
   "mimetype": "text/x-python",
   "name": "python",
   "nbconvert_exporter": "python",
   "pygments_lexer": "ipython3",
   "version": "3.5.1"
  }
 },
 "nbformat": 4,
 "nbformat_minor": 0
}
